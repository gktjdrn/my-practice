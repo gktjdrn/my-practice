{
  "nbformat": 4,
  "nbformat_minor": 0,
  "metadata": {
    "colab": {
      "name": "식보.ipynb",
      "provenance": [],
      "authorship_tag": "ABX9TyMgbW9WdNQ42Jc6V22G3cWB",
      "include_colab_link": true
    },
    "kernelspec": {
      "name": "python3",
      "display_name": "Python 3"
    },
    "language_info": {
      "name": "python"
    }
  },
  "cells": [
    {
      "cell_type": "markdown",
      "metadata": {
        "id": "view-in-github",
        "colab_type": "text"
      },
      "source": [
        "<a href=\"https://colab.research.google.com/github/gktjdrn/my-practice/blob/main/%EC%8B%9D%EB%B3%B4.ipynb\" target=\"_parent\"><img src=\"https://colab.research.google.com/assets/colab-badge.svg\" alt=\"Open In Colab\"/></a>"
      ]
    },
    {
      "cell_type": "code",
      "metadata": {
        "colab": {
          "base_uri": "https://localhost:8080/"
        },
        "id": "eAYyNw73no79",
        "outputId": "6d58d14b-bfea-42aa-ba70-f14cfc211e68"
      },
      "source": [
        "import random\n",
        "import time\n",
        "\n",
        "game = True\n",
        "while game:\n",
        "  print('############ 식보 게임 ############')\n",
        "  while True:\n",
        "    time.sleep(0.5)\n",
        "    answer = input(\"식보 게임을 진행 하시겠습니까? ('y' or 'n') > \")\n",
        "    if answer == 'n':\n",
        "      break\n",
        "    elif answer == 'y':\n",
        "      while True:\n",
        "        time.sleep(0.5)\n",
        "        gametype = input(\"게임 종류를 골라주세요 ('더블','트리플','토탈')\")\n",
        "        time.sleep(1)\n",
        "        if gametype == '더블':\n",
        "          a,b = input(\"주사위를 돌려 나올 수 2개를 예측해주세요\").split()\n",
        "          a = int(a)\n",
        "          b = int(b)\n",
        "          d = random.randint(1,6)\n",
        "          e = random.randint(1,6)\n",
        "          f = random.randint(1,6)\n",
        "          g = [d,e,f]\n",
        "          print(f\"당신의 수: {a}, {b} 주사위의 수: {d}, {e}, {f}\")\n",
        "          if a in g:\n",
        "            g.remove(a)\n",
        "          if b in g:\n",
        "            g.remove(b)\n",
        "          if len(g) == 1:\n",
        "            print('성공')\n",
        "          else:\n",
        "            print('실패')\n",
        "          break\n",
        "        elif gametype == '트리플':\n",
        "          a,b,c = input(\"주사위를 돌려 나올 수 3개를 예측해주세요\").split()\n",
        "          a = int(a)\n",
        "          b = int(b)\n",
        "          c = int(c)\n",
        "          d = random.randint(1,6)\n",
        "          e = random.randint(1,6)\n",
        "          f = random.randint(1,6)\n",
        "          g = [d,e,f]\n",
        "          print(f\"당신의 수: {a}, {b}, {c} 주사위의 수: {d}, {e}, {f}\")\n",
        "          if a in g:\n",
        "            g.remove(a)\n",
        "          if b in g:\n",
        "            g.remove(b)\n",
        "          if c in g:\n",
        "            g.remove(c)\n",
        "          if len(g) == 0:\n",
        "            print('성공')\n",
        "          else:\n",
        "            print('실패')\n",
        "          break\n",
        "        elif gametype == '토탈':\n",
        "          a = int(input(\"주사위를 돌려 나올 수의 합계를 예측해주세요 범위:3 ~ 18\"))\n",
        "          d = random.randint(1,6)\n",
        "          e = random.randint(1,6)\n",
        "          f = random.randint(1,6)\n",
        "          g = [d, e, f]\n",
        "          print(f'주사위 결과: {d}, {e}, {f}, 주사위 합계: {sum(g)}, 당신의 예측: {a}')\n",
        "          if sum(g) == a:\n",
        "            print('성공')\n",
        "          else:\n",
        "            print('실패')\n",
        "          break\n",
        "        else:\n",
        "          print(\"잘못 입력하셨습니다. 다시 입력해주세요\")\n",
        "  break"
      ],
      "execution_count": null,
      "outputs": [
        {
          "name": "stdout",
          "output_type": "stream",
          "text": [
            "############ 식보 게임 ############\n",
            "식보 게임을 진행 하시겠습니까? ('y' or 'n') > y\n",
            "게임 종류를 골라주세요 ('더블','트리플','토탈')트리플\n",
            "주사위를 돌려 나올 수 3개를 예측해주세요1 3 4\n",
            "당신의 수: 1, 3, 4 주사위의 수: 2, 3, 5\n",
            "실패\n",
            "식보 게임을 진행 하시겠습니까? ('y' or 'n') > y\n",
            "게임 종류를 골라주세요 ('더블','트리플','토탈')더블\n",
            "주사위를 돌려 나올 수 2개를 예측해주세요5 3\n",
            "당신의 수: 5, 3 주사위의 수: 3, 4, 6\n",
            "실패\n",
            "식보 게임을 진행 하시겠습니까? ('y' or 'n') > y\n",
            "게임 종류를 골라주세요 ('더블','트리플','토탈')더블\n",
            "주사위를 돌려 나올 수 2개를 예측해주세요3 5\n",
            "당신의 수: 3, 5 주사위의 수: 1, 2, 4\n",
            "실패\n",
            "식보 게임을 진행 하시겠습니까? ('y' or 'n') > y\n",
            "게임 종류를 골라주세요 ('더블','트리플','토탈')더블\n",
            "주사위를 돌려 나올 수 2개를 예측해주세요3 5\n",
            "당신의 수: 3, 5 주사위의 수: 2, 2, 6\n",
            "실패\n",
            "식보 게임을 진행 하시겠습니까? ('y' or 'n') > y\n",
            "게임 종류를 골라주세요 ('더블','트리플','토탈')더블\n",
            "주사위를 돌려 나올 수 2개를 예측해주세요3 5\n",
            "당신의 수: 3, 5 주사위의 수: 5, 5, 3\n",
            "성공\n",
            "식보 게임을 진행 하시겠습니까? ('y' or 'n') > y\n",
            "게임 종류를 골라주세요 ('더블','트리플','토탈')토탈\n",
            "주사위를 돌려 나올 수의 합계를 예측해주세요 범위:3 ~ 1815\n",
            "주사위 결과: 2, 1, 1, 주사위 합계: 4, 당신의 예측: 15\n",
            "실패\n",
            "식보 게임을 진행 하시겠습니까? ('y' or 'n') > y\n",
            "게임 종류를 골라주세요 ('더블','트리플','토탈')토탈\n",
            "주사위를 돌려 나올 수의 합계를 예측해주세요 범위:3 ~ 1812\n",
            "주사위 결과: 1, 1, 2, 주사위 합계: 4, 당신의 예측: 12\n",
            "실패\n",
            "식보 게임을 진행 하시겠습니까? ('y' or 'n') > n\n"
          ]
        }
      ]
    }
  ]
}